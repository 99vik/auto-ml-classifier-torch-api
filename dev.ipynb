{
 "cells": [
  {
   "cell_type": "code",
   "execution_count": 616,
   "metadata": {},
   "outputs": [],
   "source": [
    "import torch\n",
    "from torch import nn\n",
    "import matplotlib.pyplot as plt\n",
    "from sklearn.model_selection import train_test_split"
   ]
  },
  {
   "cell_type": "code",
   "execution_count": 617,
   "metadata": {},
   "outputs": [
    {
     "data": {
      "text/plain": [
       "'cuda'"
      ]
     },
     "execution_count": 617,
     "metadata": {},
     "output_type": "execute_result"
    }
   ],
   "source": [
    "device = 'cuda' if torch.cuda.is_available() else 'cpu'\n",
    "device"
   ]
  },
  {
   "cell_type": "code",
   "execution_count": 618,
   "metadata": {},
   "outputs": [],
   "source": [
    "import csv"
   ]
  },
  {
   "cell_type": "code",
   "execution_count": 619,
   "metadata": {},
   "outputs": [],
   "source": [
    "data = []\n",
    "atributes = []\n",
    "labels = []\n",
    "\n",
    "with open('testData.csv', 'r', newline='') as file:\n",
    "    reader = csv.reader(file)\n",
    "    for index, line in enumerate(reader):\n",
    "        if index == 0:\n",
    "            atributes = line\n",
    "        else:\n",
    "            if (line[0] not in labels):\n",
    "                labels.append(line[0])\n",
    "            data.append(line)\n"
   ]
  },
  {
   "cell_type": "code",
   "execution_count": 620,
   "metadata": {},
   "outputs": [],
   "source": [
    "data_types = []\n",
    "\n",
    "def determine_type(value):\n",
    "    try:\n",
    "        float(value)\n",
    "        return 'Float'\n",
    "    except ValueError:\n",
    "        return 'Nominal'"
   ]
  },
  {
   "cell_type": "code",
   "execution_count": 621,
   "metadata": {},
   "outputs": [
    {
     "name": "stdout",
     "output_type": "stream",
     "text": [
      "['Male', '22', '3', '1', '0', '7.25']\n"
     ]
    }
   ],
   "source": [
    "for value in data[0]:\n",
    "    data_types.append(determine_type(value))\n",
    "\n",
    "if data_types[0] == 'Float':\n",
    "    unique_values = list(set(data[0]))\n",
    "    print(unique_values)\n"
   ]
  },
  {
   "cell_type": "code",
   "execution_count": 622,
   "metadata": {},
   "outputs": [],
   "source": [
    "for index, type in enumerate(data_types):\n",
    "    if (type == 'Nominal'):\n",
    "        unique_values = list(set(row[index] for row in data))\n",
    "        if index == 0:\n",
    "            labels = [str(unique_values.index(label)) for label in labels]\n",
    "        for row in data:\n",
    "            row[index] = str(unique_values.index(row[index]))"
   ]
  },
  {
   "cell_type": "code",
   "execution_count": 623,
   "metadata": {},
   "outputs": [],
   "source": [
    "y = []\n",
    "X = []\n",
    "for line in data:\n",
    "    y.append(labels.index(line[0]))\n",
    "    X.append([float(s) for s in line[1:]])"
   ]
  },
  {
   "cell_type": "code",
   "execution_count": 624,
   "metadata": {},
   "outputs": [],
   "source": [
    "y = torch.tensor(y)\n",
    "X = torch.tensor(X)"
   ]
  },
  {
   "cell_type": "code",
   "execution_count": 625,
   "metadata": {},
   "outputs": [],
   "source": [
    "RANDOM_SEED = 42\n",
    "\n",
    "X_tr, X_te, y_tr, y_te = train_test_split(X, y, test_size=0.2, random_state=RANDOM_SEED)"
   ]
  },
  {
   "cell_type": "code",
   "execution_count": 626,
   "metadata": {},
   "outputs": [],
   "source": [
    "X_tr = X_tr.to(device)\n",
    "X_te = X_te.to(device)\n",
    "y_tr = y_tr.to(device)\n",
    "y_te = y_te.to(device)"
   ]
  },
  {
   "cell_type": "code",
   "execution_count": 627,
   "metadata": {},
   "outputs": [
    {
     "data": {
      "text/plain": [
       "tensor([  1.0000,   0.0000,  22.0000,   0.0000,   0.0000, 151.5500,   3.0000],\n",
       "       device='cuda:0')"
      ]
     },
     "execution_count": 627,
     "metadata": {},
     "output_type": "execute_result"
    }
   ],
   "source": [
    "X_tr[0]"
   ]
  },
  {
   "cell_type": "code",
   "execution_count": 628,
   "metadata": {},
   "outputs": [],
   "source": [
    "class Model(nn.Module):\n",
    "    def __init__(self):\n",
    "        super().__init__()\n",
    "        self.layer_stack = nn.Sequential(\n",
    "            nn.Linear(in_features=len(X_tr[0]), out_features=10),\n",
    "            nn.BatchNorm1d(10),\n",
    "            nn.ReLU(),\n",
    "            nn.Dropout(p=0.02),\n",
    "            nn.Linear(in_features=10, out_features=len(labels)),\n",
    "        )\n",
    "\n",
    "    def forward(self, x):\n",
    "        return self.layer_stack(x)\n"
   ]
  },
  {
   "cell_type": "code",
   "execution_count": 629,
   "metadata": {},
   "outputs": [
    {
     "data": {
      "text/plain": [
       "Model(\n",
       "  (layer_stack): Sequential(\n",
       "    (0): Linear(in_features=7, out_features=10, bias=True)\n",
       "    (1): BatchNorm1d(10, eps=1e-05, momentum=0.1, affine=True, track_running_stats=True)\n",
       "    (2): ReLU()\n",
       "    (3): Dropout(p=0.02, inplace=False)\n",
       "    (4): Linear(in_features=10, out_features=2, bias=True)\n",
       "  )\n",
       ")"
      ]
     },
     "execution_count": 629,
     "metadata": {},
     "output_type": "execute_result"
    }
   ],
   "source": [
    "model = Model().to(device)\n",
    "model"
   ]
  },
  {
   "cell_type": "code",
   "execution_count": 630,
   "metadata": {},
   "outputs": [],
   "source": [
    "loss_fn = nn.CrossEntropyLoss()\n",
    "optimizer = torch.optim.Adam(model.parameters(), lr=0.003)"
   ]
  },
  {
   "cell_type": "code",
   "execution_count": 631,
   "metadata": {},
   "outputs": [],
   "source": [
    "def accuracy_fn(y_pred, y_target):\n",
    "    correct = torch.eq(y_pred, y_target).sum().item()\n",
    "\n",
    "    return (correct/len(y_pred))*100"
   ]
  },
  {
   "cell_type": "code",
   "execution_count": 632,
   "metadata": {},
   "outputs": [
    {
     "name": "stdout",
     "output_type": "stream",
     "text": [
      "Iteration 0: TRAIN LOSS: 0.71329 | TRAIN ACCURACY: 38.5% | TEST_LOSS: 0.71472 | TEST ACCURACY: 64.6%\n",
      "Iteration 20: TRAIN LOSS: 0.64535 | TRAIN ACCURACY: 66.5% | TEST_LOSS: 0.62153 | TEST ACCURACY: 70.8%\n",
      "Iteration 40: TRAIN LOSS: 0.59508 | TRAIN ACCURACY: 74.1% | TEST_LOSS: 0.60318 | TEST ACCURACY: 72.5%\n"
     ]
    },
    {
     "name": "stdout",
     "output_type": "stream",
     "text": [
      "Iteration 60: TRAIN LOSS: 0.54728 | TRAIN ACCURACY: 75.5% | TEST_LOSS: 0.55013 | TEST ACCURACY: 75.3%\n",
      "Iteration 80: TRAIN LOSS: 0.49722 | TRAIN ACCURACY: 79.5% | TEST_LOSS: 0.48621 | TEST ACCURACY: 77.0%\n",
      "Iteration 100: TRAIN LOSS: 0.45230 | TRAIN ACCURACY: 79.2% | TEST_LOSS: 0.45468 | TEST ACCURACY: 78.7%\n",
      "Iteration 120: TRAIN LOSS: 0.43301 | TRAIN ACCURACY: 80.9% | TEST_LOSS: 0.43882 | TEST ACCURACY: 80.3%\n",
      "Iteration 140: TRAIN LOSS: 0.42111 | TRAIN ACCURACY: 81.4% | TEST_LOSS: 0.44231 | TEST ACCURACY: 79.2%\n",
      "Iteration 160: TRAIN LOSS: 0.41453 | TRAIN ACCURACY: 81.3% | TEST_LOSS: 0.44798 | TEST ACCURACY: 79.8%\n",
      "Iteration 180: TRAIN LOSS: 0.41170 | TRAIN ACCURACY: 81.7% | TEST_LOSS: 0.44618 | TEST ACCURACY: 80.3%\n",
      "Iteration 200: TRAIN LOSS: 0.40783 | TRAIN ACCURACY: 82.00% | TEST_LOSS: 0.44306 | TEST ACCURACY: 82.58%\n"
     ]
    }
   ],
   "source": [
    "torch.manual_seed(42)\n",
    "\n",
    "i_count = []\n",
    "train_loss_values, test_loss_values = [], []\n",
    "iterations = 200\n",
    "\n",
    "\n",
    "for i in range(iterations):\n",
    "    model.train()\n",
    "\n",
    "    logits = model(X_tr)\n",
    "    logits_pred = torch.softmax(logits, dim=1).argmax(dim=1)\n",
    "\n",
    "    acc = accuracy_fn(y_target=y_tr, y_pred=logits_pred)\n",
    "    loss = loss_fn(logits, y_tr)\n",
    "    train_loss_values.append(loss.item())\n",
    "\n",
    "    optimizer.zero_grad()\n",
    "\n",
    "    loss.backward()\n",
    "\n",
    "    optimizer.step()\n",
    "\n",
    "    i_count.append(i)\n",
    "\n",
    "    model.eval()\n",
    "    with torch.inference_mode():\n",
    "        test_logits = model(X_te)\n",
    "        test_logits_pred = torch.softmax(test_logits, dim=1).argmax(dim=1)\n",
    "        test_loss = loss_fn(test_logits, y_te)\n",
    "        test_loss_values.append(test_loss.item())\n",
    "        test_acc = accuracy_fn(y_target=y_te, y_pred=test_logits_pred)\n",
    "\n",
    "    if (i) % 20 == 0:\n",
    "        print(f'Iteration {i}: TRAIN LOSS: {loss:.5f} | TRAIN ACCURACY: {acc:.1f}% | TEST_LOSS: {test_loss:.5f} | TEST ACCURACY: {test_acc:.1f}%')\n",
    "\n",
    "print(f'Iteration {i+1}: TRAIN LOSS: {loss:.5f} | TRAIN ACCURACY: {acc:.2f}% | TEST_LOSS: {test_loss:.5f} | TEST ACCURACY: {test_acc:.2f}%')"
   ]
  },
  {
   "cell_type": "code",
   "execution_count": 633,
   "metadata": {},
   "outputs": [
    {
     "data": {
      "text/plain": [
       "<matplotlib.legend.Legend at 0x21bfeee22a0>"
      ]
     },
     "execution_count": 633,
     "metadata": {},
     "output_type": "execute_result"
    },
    {
     "data": {
      "image/png": "[encoded data removed]",
      "text/plain": [
       "<Figure size 1200x500 with 1 Axes>"
      ]
     },
     "metadata": {},
     "output_type": "display_data"
    }
   ],
   "source": [
    "plt.figure(figsize=(12,5))\n",
    "plt.plot(i_count, train_loss_values, label='Train loss')\n",
    "plt.plot(i_count, test_loss_values, label='Test loss')\n",
    "plt.title(\"Train/Test loss\")\n",
    "plt.ylabel(\"Loss\")\n",
    "plt.xlabel(\"Iteration\")\n",
    "plt.legend()"
   ]
  }
 ],
 "metadata": {
  "kernelspec": {
   "display_name": "Python 3",
   "language": "python",
   "name": "python3"
  },
  "language_info": {
   "codemirror_mode": {
    "name": "ipython",
    "version": 3
   },
   "file_extension": ".py",
   "mimetype": "text/x-python",
   "name": "python",
   "nbconvert_exporter": "python",
   "pygments_lexer": "ipython3",
   "version": "3.12.1"
  }
 },
 "nbformat": 4,
 "nbformat_minor": 2
}
