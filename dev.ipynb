{
 "cells": [
  {
   "cell_type": "code",
   "execution_count": 1,
   "metadata": {},
   "outputs": [],
   "source": [
    "import torch\n",
    "from torch import nn\n",
    "import matplotlib.pyplot as plt\n",
    "from sklearn.model_selection import train_test_split"
   ]
  },
  {
   "cell_type": "code",
   "execution_count": 2,
   "metadata": {},
   "outputs": [
    {
     "data": {
      "text/plain": [
       "'cuda'"
      ]
     },
     "execution_count": 2,
     "metadata": {},
     "output_type": "execute_result"
    }
   ],
   "source": [
    "device = 'cuda' if torch.cuda.is_available() else 'cpu'\n",
    "device"
   ]
  },
  {
   "cell_type": "code",
   "execution_count": 3,
   "metadata": {},
   "outputs": [],
   "source": [
    "import csv"
   ]
  },
  {
   "cell_type": "code",
   "execution_count": 4,
   "metadata": {},
   "outputs": [],
   "source": [
    "data = []\n",
    "atributes = []\n",
    "labels = []\n",
    "\n",
    "LABEL_INDEX = 1\n",
    "\n",
    "with open('SVMtrain.csv', 'r', newline='') as file:\n",
    "    reader = csv.reader(file)\n",
    "    for index, line in enumerate(reader):\n",
    "        if index == 0:\n",
    "            continue\n",
    "        else:\n",
    "            if (line[LABEL_INDEX] not in labels):\n",
    "                labels.append(line[LABEL_INDEX])\n",
    "            data.append(line)\n"
   ]
  },
  {
   "cell_type": "code",
   "execution_count": 5,
   "metadata": {},
   "outputs": [],
   "source": [
    "data_types = []\n",
    "\n",
    "def determine_type(value):\n",
    "    try:\n",
    "        float(value)\n",
    "        return 'Float'\n",
    "    except ValueError:\n",
    "        return 'Nominal'"
   ]
  },
  {
   "cell_type": "code",
   "execution_count": 6,
   "metadata": {},
   "outputs": [],
   "source": [
    "for value in data[0]:\n",
    "    data_types.append(determine_type(value))"
   ]
  },
  {
   "cell_type": "code",
   "execution_count": 7,
   "metadata": {},
   "outputs": [],
   "source": [
    "for index, type in enumerate(data_types):\n",
    "    if (type == 'Nominal'):\n",
    "        unique_values = list(set(row[index] for row in data))\n",
    "        if index == LABEL_INDEX:\n",
    "            labels = [str(unique_values.index(label)) for label in labels]\n",
    "        for row in data:\n",
    "            row[index] = str(unique_values.index(row[index]))"
   ]
  },
  {
   "cell_type": "code",
   "execution_count": 8,
   "metadata": {},
   "outputs": [],
   "source": [
    "y = []\n",
    "X = []\n",
    "for line in data:\n",
    "    y.append(labels.index(line[LABEL_INDEX]))\n",
    "    X.append([float(s) for s in (line[:LABEL_INDEX]+line[LABEL_INDEX+1:])]) "
   ]
  },
  {
   "cell_type": "code",
   "execution_count": 9,
   "metadata": {},
   "outputs": [],
   "source": [
    "y = torch.tensor(y)\n",
    "X = torch.tensor(X)"
   ]
  },
  {
   "cell_type": "code",
   "execution_count": 10,
   "metadata": {},
   "outputs": [],
   "source": [
    "RANDOM_SEED = 42\n",
    "\n",
    "X_tr, X_te, y_tr, y_te = train_test_split(X, y, test_size=0.2, random_state=RANDOM_SEED)"
   ]
  },
  {
   "cell_type": "code",
   "execution_count": 11,
   "metadata": {},
   "outputs": [],
   "source": [
    "X_tr = X_tr.to(device)\n",
    "X_te = X_te.to(device)\n",
    "y_tr = y_tr.to(device)\n",
    "y_te = y_te.to(device)"
   ]
  },
  {
   "cell_type": "code",
   "execution_count": 12,
   "metadata": {},
   "outputs": [
    {
     "data": {
      "text/plain": [
       "tensor([709.0000,   1.0000,   1.0000,  22.0000,   0.0000,   0.0000, 151.5500,\n",
       "          3.0000], device='cuda:0')"
      ]
     },
     "execution_count": 12,
     "metadata": {},
     "output_type": "execute_result"
    }
   ],
   "source": [
    "X_tr[0]"
   ]
  },
  {
   "cell_type": "code",
   "execution_count": 13,
   "metadata": {},
   "outputs": [],
   "source": [
    "class Model(nn.Module):\n",
    "    def __init__(self):\n",
    "        super().__init__()\n",
    "        self.layer_stack = nn.Sequential(\n",
    "            nn.Linear(in_features=len(X_tr[0]), out_features=10),\n",
    "            nn.BatchNorm1d(10),\n",
    "            nn.ReLU(),\n",
    "            nn.Dropout(p=0.02),\n",
    "            nn.Linear(in_features=10, out_features=len(labels)),\n",
    "        )\n",
    "\n",
    "    def forward(self, x):\n",
    "        return self.layer_stack(x)\n"
   ]
  },
  {
   "cell_type": "code",
   "execution_count": 14,
   "metadata": {},
   "outputs": [
    {
     "data": {
      "text/plain": [
       "Model(\n",
       "  (layer_stack): Sequential(\n",
       "    (0): Linear(in_features=8, out_features=10, bias=True)\n",
       "    (1): BatchNorm1d(10, eps=1e-05, momentum=0.1, affine=True, track_running_stats=True)\n",
       "    (2): ReLU()\n",
       "    (3): Dropout(p=0.02, inplace=False)\n",
       "    (4): Linear(in_features=10, out_features=2, bias=True)\n",
       "  )\n",
       ")"
      ]
     },
     "execution_count": 14,
     "metadata": {},
     "output_type": "execute_result"
    }
   ],
   "source": [
    "model = Model().to(device)\n",
    "model"
   ]
  },
  {
   "cell_type": "code",
   "execution_count": 15,
   "metadata": {},
   "outputs": [],
   "source": [
    "loss_fn = nn.CrossEntropyLoss()\n",
    "optimizer = torch.optim.Adam(model.parameters(), lr=0.003)"
   ]
  },
  {
   "cell_type": "code",
   "execution_count": 16,
   "metadata": {},
   "outputs": [],
   "source": [
    "def accuracy_fn(y_pred, y_target):\n",
    "    correct = torch.eq(y_pred, y_target).sum().item()\n",
    "\n",
    "    return (correct/len(y_pred))*100"
   ]
  },
  {
   "cell_type": "code",
   "execution_count": 17,
   "metadata": {},
   "outputs": [
    {
     "name": "stdout",
     "output_type": "stream",
     "text": [
      "Iteration 0: TRAIN LOSS: 0.75393 | TRAIN ACCURACY: 50.9% | TEST_LOSS: 2.43669 | TEST ACCURACY: 38.2%\n",
      "Iteration 20: TRAIN LOSS: 0.65441 | TRAIN ACCURACY: 65.8% | TEST_LOSS: 0.65582 | TEST ACCURACY: 65.7%\n",
      "Iteration 40: TRAIN LOSS: 0.63872 | TRAIN ACCURACY: 66.1% | TEST_LOSS: 0.63008 | TEST ACCURACY: 67.4%\n",
      "Iteration 60: TRAIN LOSS: 0.63000 | TRAIN ACCURACY: 68.2% | TEST_LOSS: 0.61951 | TEST ACCURACY: 69.7%\n",
      "Iteration 80: TRAIN LOSS: 0.61749 | TRAIN ACCURACY: 68.4% | TEST_LOSS: 0.61232 | TEST ACCURACY: 68.0%\n",
      "Iteration 100: TRAIN LOSS: 0.60046 | TRAIN ACCURACY: 69.8% | TEST_LOSS: 0.61987 | TEST ACCURACY: 66.3%\n",
      "Iteration 120: TRAIN LOSS: 0.57593 | TRAIN ACCURACY: 71.7% | TEST_LOSS: 0.59922 | TEST ACCURACY: 65.7%\n",
      "Iteration 140: TRAIN LOSS: 0.53648 | TRAIN ACCURACY: 72.4% | TEST_LOSS: 0.57142 | TEST ACCURACY: 71.9%\n",
      "Iteration 160: TRAIN LOSS: 0.51231 | TRAIN ACCURACY: 74.4% | TEST_LOSS: 0.55925 | TEST ACCURACY: 74.2%\n",
      "Iteration 180: TRAIN LOSS: 0.49439 | TRAIN ACCURACY: 76.5% | TEST_LOSS: 0.55176 | TEST ACCURACY: 75.3%\n",
      "Iteration 200: TRAIN LOSS: 0.47208 | TRAIN ACCURACY: 77.07% | TEST_LOSS: 0.55662 | TEST ACCURACY: 73.03%\n"
     ]
    }
   ],
   "source": [
    "torch.manual_seed(42)\n",
    "\n",
    "i_count = []\n",
    "train_loss_values, test_loss_values = [], []\n",
    "iterations = 200\n",
    "\n",
    "\n",
    "for i in range(iterations):\n",
    "    model.train()\n",
    "\n",
    "    logits = model(X_tr)\n",
    "    logits_pred = torch.softmax(logits, dim=1).argmax(dim=1)\n",
    "\n",
    "    acc = accuracy_fn(y_target=y_tr, y_pred=logits_pred)\n",
    "    loss = loss_fn(logits, y_tr)\n",
    "    train_loss_values.append(loss.item())\n",
    "\n",
    "    optimizer.zero_grad()\n",
    "\n",
    "    loss.backward()\n",
    "\n",
    "    optimizer.step()\n",
    "\n",
    "    i_count.append(i)\n",
    "\n",
    "    model.eval()\n",
    "    with torch.inference_mode():\n",
    "        test_logits = model(X_te)\n",
    "        test_logits_pred = torch.softmax(test_logits, dim=1).argmax(dim=1)\n",
    "        test_loss = loss_fn(test_logits, y_te)\n",
    "        test_loss_values.append(test_loss.item())\n",
    "        test_acc = accuracy_fn(y_target=y_te, y_pred=test_logits_pred)\n",
    "\n",
    "    if (i) % 20 == 0:\n",
    "        print(f'Iteration {i}: TRAIN LOSS: {loss:.5f} | TRAIN ACCURACY: {acc:.1f}% | TEST_LOSS: {test_loss:.5f} | TEST ACCURACY: {test_acc:.1f}%')\n",
    "\n",
    "print(f'Iteration {i+1}: TRAIN LOSS: {loss:.5f} | TRAIN ACCURACY: {acc:.2f}% | TEST_LOSS: {test_loss:.5f} | TEST ACCURACY: {test_acc:.2f}%')"
   ]
  },
  {
   "cell_type": "code",
   "execution_count": 18,
   "metadata": {},
   "outputs": [
    {
     "data": {
      "text/plain": [
       "<matplotlib.legend.Legend at 0x1d2e955bd10>"
      ]
     },
     "execution_count": 18,
     "metadata": {},
     "output_type": "execute_result"
    },
    {
     "data": {
      "image/png": "[encoded data removed]",
      "text/plain": [
       "<Figure size 1200x500 with 1 Axes>"
      ]
     },
     "metadata": {},
     "output_type": "display_data"
    }
   ],
   "source": [
    "plt.figure(figsize=(12,5))\n",
    "plt.plot(i_count, train_loss_values, label='Train loss')\n",
    "plt.plot(i_count, test_loss_values, label='Test loss')\n",
    "plt.title(\"Train/Test loss\")\n",
    "plt.ylabel(\"Loss\")\n",
    "plt.xlabel(\"Iteration\")\n",
    "plt.legend()"
   ]
  }
 ],
 "metadata": {
  "kernelspec": {
   "display_name": "Python 3",
   "language": "python",
   "name": "python3"
  },
  "language_info": {
   "codemirror_mode": {
    "name": "ipython",
    "version": 3
   },
   "file_extension": ".py",
   "mimetype": "text/x-python",
   "name": "python",
   "nbconvert_exporter": "python",
   "pygments_lexer": "ipython3",
   "version": "3.12.1"
  }
 },
 "nbformat": 4,
 "nbformat_minor": 2
}
